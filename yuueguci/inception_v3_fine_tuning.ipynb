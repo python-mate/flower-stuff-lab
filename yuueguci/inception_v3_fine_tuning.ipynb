{
  "nbformat": 4,
  "nbformat_minor": 0,
  "metadata": {
    "colab": {
      "name": "inception_v3_fine_tuning.ipynb",
      "provenance": [],
      "include_colab_link": true
    },
    "kernelspec": {
      "name": "python3",
      "display_name": "Python 3"
    },
    "language_info": {
      "name": "python"
    },
    "accelerator": "GPU"
  },
  "cells": [
    {
      "cell_type": "markdown",
      "metadata": {
        "id": "view-in-github",
        "colab_type": "text"
      },
      "source": [
        "<a href=\"https://colab.research.google.com/github/yuu-eguci/flower-stuff-lab/blob/main/yuueguci/inception_v3_fine_tuning.ipynb\" target=\"_parent\"><img src=\"https://colab.research.google.com/assets/colab-badge.svg\" alt=\"Open In Colab\"/></a>"
      ]
    },
    {
      "cell_type": "code",
      "metadata": {
        "id": "hBgFLQ6hEnk7"
      },
      "source": [
        "!nvidia-smi"
      ],
      "execution_count": null,
      "outputs": []
    },
    {
      "cell_type": "code",
      "metadata": {
        "id": "r36MTtu9KBrI"
      },
      "source": [
        "# Google Drive をマウントします。\n",
        "# NOTE: 左のトコをポチポチやってマウントすることも出来ますが、マウントすることを明示するほうが好みなのでしています。\n",
        "from google.colab import drive\n",
        "drive.mount('/content/drive')"
      ],
      "execution_count": null,
      "outputs": []
    },
    {
      "cell_type": "code",
      "metadata": {
        "id": "_CZJnrDdC57W"
      },
      "source": [
        "# 17flowers dataset を取得します。\n",
        "# NOTE: マイドライブに 17flowers.zip を置いてある必要があります。自分で用意してください。\n",
        "#       /content は一時領域なので、数時間ごとに消滅します。\n",
        "#       だからイチイチ、 unzip しています。\n",
        "!unzip \"/content/drive/MyDrive/datasets/17flowers.zip\" -d \"/content\""
      ],
      "execution_count": null,
      "outputs": []
    },
    {
      "cell_type": "code",
      "metadata": {
        "id": "sBuCU-xlSC5D"
      },
      "source": [
        "# my_utils.convert_image_for_prediction を利用する準備を行います。\n",
        "!git clone https://github.com/yuu-eguci/flower-stuff-lab.git\n",
        "\n",
        "# my_utils を import するため、 flower-stuff-lab 内へ移動します。\n",
        "import os\n",
        "os.chdir('/content/flower-stuff-lab/yuueguci')"
      ],
      "execution_count": null,
      "outputs": []
    },
    {
      "cell_type": "code",
      "metadata": {
        "id": "xWv7zuZ6gVqn"
      },
      "source": [
        "\"\"\"\n",
        "この notebook に必要な import を行うセルです。\n",
        "NOTE: 下の方のセルだけを実行することもあるため、 import は分離しておきます。\n",
        "\"\"\"\n",
        "\n",
        "# 学習済みモデル Inception-v3 を利用します。\n",
        "# NOTE: 152層 CNN\n",
        "#       ImageNet 学習済みモデル(なので画像は)\n",
        "#       Google が作ったヤツ。\n",
        "#       入力サイズは(299,299,3)\n",
        "import keras.applications.inception_v3\n",
        "\n",
        "# 他、必要なライブラリを import します。\n",
        "# NOTE: 今回は試しに keras. から参照するようにしてみます。\n",
        "import keras\n",
        "import keras.preprocessing.image\n",
        "import keras.models\n",
        "import keras.layers\n",
        "import keras.optimizers\n",
        "import keras.callbacks\n",
        "\n",
        "import numpy\n",
        "import my_utils\n",
        "\n",
        "# 各種定数もこのセルに定義します。\n",
        "# データセットのパスです。\n",
        "TRAIN_DIR = '/content/train_images'\n",
        "TEST_DIR = '/content/test_images'\n",
        "# 各 TRAIN_DIR に含まれる画像数です。\n",
        "EACH_TRAIN_DIR_COUNT = 70\n",
        "# 各 TEST_DIR に含まれる画像数です。\n",
        "EACH_TEST_DIR_COUNT = 10\n",
        "# n flowers です。\n",
        "# NOTE: 元は 17flowers ですが、増やす予定です。\n",
        "#       なので n flowers です。\n",
        "CLASSES_FOR_N_FLOWERS = [\n",
        "    'Bluebell',\n",
        "    'Buttercup',\n",
        "    'ColtsFoot',\n",
        "    'Cowslip',\n",
        "    'Crocus',\n",
        "    'Daffodil',\n",
        "    'Daisy',\n",
        "    'Dandelion',\n",
        "    'Fritillary',\n",
        "    'Iris',\n",
        "    'LilyValley',\n",
        "    'Pansy',\n",
        "    'Snowdrop',\n",
        "    'Sunflower',\n",
        "    'Tigerlily',\n",
        "    'Tulip',\n",
        "    'Windflower',\n",
        "]\n",
        "# Inception-v3 の入力サイズです。\n",
        "INCEPTION_V3_TARGET_SIZE = (299, 299)\n",
        "\n",
        "# 1st fitting を結果を保存する hdf5 です。\n",
        "FIRST_FITTING_HDF5 = '/content/drive/MyDrive/hdf5/inception_v3_n_flowers_fine_tuning_1st_cell.hdf5'\n",
        "FIRST_FITTING_LOG_DIR = '/content/drive/MyDrive/TensorBoardLogs/inception_v3_n_flowers_fine_tuning_1st_cell'\n",
        "# 2nd fitting を結果を保存する hdf5 です。\n",
        "SECOND_FITTING_HDF5 = '/content/drive/MyDrive/hdf5/inception_v3_n_flowers_fine_tuning_2nd_cell.hdf5'\n",
        "SECOND_FITTING_LOG_DIR = '/content/drive/MyDrive/TensorBoardLogs/inception_v3_n_flowers_fine_tuning_2nd_cell'\n",
        "# Prediction に使う画像です。\n",
        "IMAGE_PATH = '/content/drive/MyDrive/images-for-prediction/for-n-flowers/sunflower.jpg'\n"
      ],
      "execution_count": 22,
      "outputs": []
    },
    {
      "cell_type": "code",
      "metadata": {
        "id": "boap2nkSf2jz"
      },
      "source": [
        "\"\"\"\n",
        "データセットを用意するセルです。\n",
        "\"\"\"\n",
        "\n",
        "# Data Augmentation のための ImageDataGenerator を作ります。\n",
        "image_data_generator_to_train = keras.preprocessing.image.ImageDataGenerator(\n",
        "    rescale=1.0 / 255,\n",
        "    shear_range=0.2,\n",
        "    zoom_range=0.2,\n",
        "    horizontal_flip=True,\n",
        "    rotation_range=10,\n",
        ")\n",
        "image_data_generator_to_test = keras.preprocessing.image.ImageDataGenerator(\n",
        "    rescale=1.0 / 255,\n",
        ")\n",
        "\n",
        "# ImageDataGenerator へ画像を与えます。\n",
        "directory_iterator_for_training = image_data_generator_to_train.flow_from_directory(\n",
        "    TRAIN_DIR,\n",
        "    target_size=INCEPTION_V3_TARGET_SIZE,\n",
        "    batch_size=16,\n",
        "    class_mode='categorical',\n",
        "    shuffle=True,\n",
        ")\n",
        "directory_iterator_for_test = image_data_generator_to_test.flow_from_directory(\n",
        "    TEST_DIR,\n",
        "    target_size=INCEPTION_V3_TARGET_SIZE,\n",
        "    batch_size=16,\n",
        "    class_mode='categorical',\n",
        "    shuffle=True,\n",
        ")"
      ],
      "execution_count": null,
      "outputs": []
    },
    {
      "cell_type": "code",
      "metadata": {
        "id": "HHzfkTnAwiSL"
      },
      "source": [
        "\"\"\"\n",
        "元の Inception-v3 を学習せず、新しい層のみ学習を行うセルです。\n",
        "\"\"\"\n",
        "\n",
        "# 学習済みモデルのインスタンスを取得します。\n",
        "# NOTE: include_top=False により、これら↓の層が除かれます。\n",
        "#       mixed10\n",
        "#       avg_pool\n",
        "#       flatten\n",
        "#       predictions input:(None,2048) output:(None,1000)\n",
        "base_model = keras.applications.inception_v3.InceptionV3(weights='imagenet', include_top=False)\n",
        "\n",
        "# \"Global spatial average pooling layer\" 追加。\n",
        "# NOTE: GlobalAveragePooling2D により、\n",
        "#       特徴マップ(batch_size,rows,cols,channels) -> (batch_size,channels)へ変換(圧縮)します。\n",
        "#       これにより、 mixed10 の段階で(None,8,8,2048)だったデータが(None,2048)へ圧縮されます。\n",
        "x = base_model.output\n",
        "x = keras.layers.GlobalAveragePooling2D()(x)\n",
        "# 全結合層追加。\n",
        "x = keras.layers.Dense(1024, activation='relu')(x)\n",
        "# \"Logistic layer\"(物流層?)を追加。分類したいクラス数を指定します。\n",
        "predictions = keras.layers.Dense(17, activation='softmax')(x)\n",
        "\n",
        "# モデル完成です。\n",
        "# NOTE: なんか、今んとこ base_model.output に層を追加していくことで\n",
        "#       predictions ですでに model は完成しているってイメージだったから、こうやってくっつけないといけないんだー?\n",
        "#       って思っています。\n",
        "#       中身を理解していないと、変数名(predictions とか)にピンとこない。\n",
        "model = keras.models.Model(inputs=base_model.input, outputs=predictions)\n",
        "\n",
        "# fit 前には compile が必要で、さらにその前に、新しい層のみ学習を行う設定を行います。\n",
        "# NOTE: base_model を回すのか。 model の中身じゃないのか……よくわかっていないです。\n",
        "# NOTE: 311層ありました。\n",
        "for i, layer in enumerate(base_model.layers):\n",
        "    layer.trainable = False\n",
        "\n",
        "# fit 前には compile が必要です。\n",
        "model.compile(\n",
        "    optimizer='rmsprop',\n",
        "    loss='categorical_crossentropy',\n",
        ")\n",
        "\n",
        "# fitting を行います。\n",
        "model.fit(\n",
        "    directory_iterator_for_training,\n",
        "    steps_per_epoch=EACH_TRAIN_DIR_COUNT,\n",
        "    epochs=5,\n",
        "    callbacks=[\n",
        "        keras.callbacks.TensorBoard(log_dir=FIRST_FITTING_LOG_DIR),\n",
        "        keras.callbacks.ModelCheckpoint(FIRST_FITTING_HDF5, save_best_only=True)\n",
        "    ],\n",
        "    verbose=1,\n",
        "    validation_data=directory_iterator_for_test,\n",
        "    validation_steps=EACH_TEST_DIR_COUNT,\n",
        ")\n",
        "\n",
        "# Evaluate します。\n",
        "score = model.evaluate(directory_iterator_for_test, verbose=1)\n",
        "print(dict(score=score))"
      ],
      "execution_count": null,
      "outputs": []
    },
    {
      "cell_type": "code",
      "metadata": {
        "id": "CFiSy4R7Hb3d"
      },
      "source": [
        "%load_ext tensorboard\n",
        "%tensorboard --logdir /content/drive/MyDrive/TensorBoardLogs/inception_v3_n_flowers_fine_tuning_1st_cell"
      ],
      "execution_count": null,
      "outputs": []
    },
    {
      "cell_type": "code",
      "metadata": {
        "id": "PvV2UO3LxkJs"
      },
      "source": [
        "\"\"\"\n",
        "適当なところで層を区切って学習を行うセルです。\n",
        "\"\"\"\n",
        "TENSOR_BOARD_LOG_DIR = '/content/drive/MyDrive/TensorBoardLogs/inception_v3_n_flowers_fine_tuning_2nd_cell'\n",
        "PREVIOUS_HDF5_FILE_PATH = '/content/drive/MyDrive/hdf5/inception_v3_n_flowers_fine_tuning_1st_cell.hdf5'\n",
        "HDF5_FILE_PATH = '/content/drive/MyDrive/hdf5/inception_v3_n_flowers_fine_tuning_2nd_cell.hdf5'\n",
        "\n",
        "# ひとつ前の fitting を行った model をロードします。\n",
        "model = keras.models.load_model(PREVIOUS_HDF5_FILE_PATH)\n",
        "\n",
        "# Fine-tuning を行います。250層目以降を trainable にします。\n",
        "for i, layer in enumerate(model.layers[:249]):\n",
        "    layer.trainable = False\n",
        "print(i)\n",
        "for i, layer in enumerate(model.layers[249:]):\n",
        "    layer.trainable = True\n",
        "print(i)\n",
        "\n",
        "# fit 前には compile が必要です。\n",
        "model.compile(\n",
        "    optimizer=keras.optimizers.SGD(learning_rate=0.0001, momentum=0.9),\n",
        "    loss='categorical_crossentropy',\n",
        ")\n",
        "\n",
        "# fitting を行います。\n",
        "model.fit(\n",
        "    directory_iterator_for_training,\n",
        "    steps_per_epoch=EACH_TRAIN_DIR_COUNT,\n",
        "    epochs=20,\n",
        "    callbacks=[\n",
        "        keras.callbacks.TensorBoard(log_dir=TENSOR_BOARD_LOG_DIR),\n",
        "        keras.callbacks.ModelCheckpoint(HDF5_FILE_PATH, save_best_only=True)\n",
        "    ],\n",
        "    verbose=1,\n",
        "    validation_data=directory_iterator_for_test,\n",
        "    validation_steps=EACH_TEST_DIR_COUNT,\n",
        ")\n",
        "\n",
        "# Evaluate します。\n",
        "score = model.evaluate(directory_iterator_for_test, verbose=1)\n",
        "print(dict(score=score))"
      ],
      "execution_count": null,
      "outputs": []
    },
    {
      "cell_type": "code",
      "metadata": {
        "id": "0rb7OQXlHoT6"
      },
      "source": [
        "%load_ext tensorboard\n",
        "%tensorboard --logdir /content/drive/MyDrive/TensorBoardLogs/inception_v3_n_flowers_fine_tuning_2nd_cell"
      ],
      "execution_count": null,
      "outputs": []
    },
    {
      "cell_type": "code",
      "metadata": {
        "id": "Rh2SBYcxVTMs",
        "colab": {
          "base_uri": "https://localhost:8080/"
        },
        "outputId": "7fde5655-b3c2-4a06-d8b3-e5c82090ffec"
      },
      "source": [
        "\"\"\"\n",
        "Prediction を行うセルです。\n",
        "NOTE: hdf5 を読み込んで predict します。\n",
        "      毎回 fit -> predict なんてやってられないからです。\n",
        "\"\"\"\n",
        "\n",
        "\n",
        "def predict_top_class(model, img_nad):\n",
        "    predicted = model.predict(img_nad, batch_size=1, verbose=1)\n",
        "    predicted = numpy.argmax(predicted, axis=-1)\n",
        "    return [CLASSES_FOR_N_FLOWERS[i] for i in predicted]\n",
        "\n",
        "\n",
        "def predict_top5_classes(model, img_nad):\n",
        "    prediction = model.predict(img_nad)[0]\n",
        "    top_indices = prediction.argsort()[-5:][::-1]\n",
        "    return [(CLASSES_FOR_N_FLOWERS[i], prediction[i]) for i in top_indices]\n",
        "\n",
        "\n",
        "# 画像を読み込みます。\n",
        "img_nad = my_utils.convert_image_for_prediction(IMAGE_PATH, INCEPTION_V3_TARGET_SIZE, 'rgb')\n",
        "\n",
        "# 1st model で prediction してみます。\n",
        "model = keras.models.load_model(FIRST_FITTING_HDF5)\n",
        "print('1st model', predict_top_class(model, img_nad))\n",
        "print('1st model', predict_top5_classes(model, img_nad))\n",
        "\n",
        "# 2nd model で prediction してみます。\n",
        "model = keras.models.load_model(SECOND_FITTING_HDF5)\n",
        "print('1st model', predict_top_class(model, img_nad))\n",
        "print('1st model', predict_top5_classes(model, img_nad))"
      ],
      "execution_count": 23,
      "outputs": [
        {
          "output_type": "stream",
          "text": [
            "load_img の返り値: <class 'PIL.Image.Image'>\n",
            "PIL.Image.Image size: (299, 299)\n",
            "img_to_array の返り値: <class 'numpy.ndarray'>\n",
            "正規化後の img: <class 'numpy.ndarray'>\n",
            "正規化後の img.shape: (299, 299, 3)\n",
            "1/1 [==============================] - 8s 8s/step\n",
            "1st model ['Sunflower']\n",
            "1st model [('Sunflower', 0.999826), ('Windflower', 0.00013694806), ('ColtsFoot', 2.40964e-05), ('Tulip', 8.909642e-06), ('Tigerlily', 1.3229544e-06)]\n",
            "1/1 [==============================] - 7s 7s/step\n",
            "1st model ['Sunflower']\n",
            "1st model [('Sunflower', 0.9999089), ('Daisy', 1.7981178e-05), ('Windflower', 1.5335736e-05), ('Snowdrop', 1.4135974e-05), ('Bluebell', 1.2670451e-05)]\n"
          ],
          "name": "stdout"
        }
      ]
    }
  ]
}