{
  "nbformat": 4,
  "nbformat_minor": 0,
  "metadata": {
    "colab": {
      "name": "Untitled0.ipynb",
      "provenance": [],
      "authorship_tag": "ABX9TyOj2SOl4FepggVZKuX+hY9b",
      "include_colab_link": true
    },
    "kernelspec": {
      "name": "python3",
      "display_name": "Python 3"
    },
    "language_info": {
      "name": "python"
    },
    "accelerator": "GPU"
  },
  "cells": [
    {
      "cell_type": "markdown",
      "metadata": {
        "id": "view-in-github",
        "colab_type": "text"
      },
      "source": [
        "<a href=\"https://colab.research.google.com/github/yuu-eguci/flower-stuff-lab/blob/main/yuueguci/yolov5_easy_detection.ipynb\" target=\"_parent\"><img src=\"https://colab.research.google.com/assets/colab-badge.svg\" alt=\"Open In Colab\"/></a>"
      ]
    },
    {
      "cell_type": "code",
      "metadata": {
        "id": "8k9eEGn5X6RA"
      },
      "source": [
        "# 「いつもの」。最初にランタイムのパワーを確認します。\n",
        "!nvidia-smi"
      ],
      "execution_count": null,
      "outputs": []
    },
    {
      "cell_type": "code",
      "metadata": {
        "id": "3SjNzjjHSxWb"
      },
      "source": [
        "# ソースコードを clone してきます。\n",
        "!git clone https://github.com/yuu-eguci/yolov5"
      ],
      "execution_count": null,
      "outputs": []
    },
    {
      "cell_type": "code",
      "metadata": {
        "id": "vogCZSpuUBId"
      },
      "source": [
        "# 実行ディレクトリを repository へ移します。\n",
        "# NOTE: python を実行するとき、いちいち /content/yolov5/train.py とか指定したくないので。\n",
        "import os\n",
        "os.chdir('/content/yolov5')"
      ],
      "execution_count": 5,
      "outputs": []
    },
    {
      "cell_type": "code",
      "metadata": {
        "id": "Z3tn8XKCUZrB"
      },
      "source": [
        "# 実行ディレクトリが移ったことを確認します。\n",
        "!pwd\n",
        "!ls -a"
      ],
      "execution_count": null,
      "outputs": []
    },
    {
      "cell_type": "code",
      "metadata": {
        "id": "3XHTH-fMUqeO"
      },
      "source": [
        "# もともと最低限のモジュールは Colab に用意されています。\n",
        "# が、それだけでは本 repository を動かすには足りません。\n",
        "# pip install します。\n",
        "!pip install -r requirements.txt"
      ],
      "execution_count": null,
      "outputs": []
    },
    {
      "cell_type": "code",
      "metadata": {
        "id": "SZDZTDlrUfcR"
      },
      "source": [
        "# Fitting します。\n",
        "# NOTE: @ayano1212 サン主催会で覚えた用語。学習させることを fit と呼んだりする。\n",
        "# NOTE: 自分のぱそこでは30分くらいかかりますが Colab では数分です。\n",
        "!python train.py --img 640 --batch 16 --epochs 10 --data coco128.yaml --weights yolov5s.pt"
      ],
      "execution_count": null,
      "outputs": []
    },
    {
      "cell_type": "code",
      "metadata": {
        "id": "UYPRBz01bXM1"
      },
      "source": [
        "# マイドライブをマウントします。\n",
        "# NOTE: 検知を行う画像はマイドライブにあるからです。\n",
        "from google.colab import drive\n",
        "drive.mount('/content/drive')"
      ],
      "execution_count": null,
      "outputs": []
    },
    {
      "cell_type": "code",
      "metadata": {
        "id": "lpXTxq-ocVRi"
      },
      "source": [
        "# images-for-yolov5/images の画像で検知を行います。\n",
        "# 結果として出力される画像は /content/yolov5/runs/detect/exp に格納されます。\n",
        "# NOTE: メンドくさいのでマイドライブへのコピー等は行いません。\n",
        "#       ディレクトリを覗いて取り出してください。\n",
        "!python detect.py --source '/content/drive/MyDrive/images-for-yolov5/images' --weights yolov5s.pt --conf 0.50"
      ],
      "execution_count": null,
      "outputs": []
    }
  ]
}