{
  "nbformat": 4,
  "nbformat_minor": 0,
  "metadata": {
    "colab": {
      "name": "mnist_prediction.ipynb",
      "provenance": [],
      "mount_file_id": "https://github.com/yuu-eguci/flower-stuff-lab/blob/main/yuueguci/mnist_prediction.ipynb",
      "authorship_tag": "ABX9TyMiTvdiefhQuGSLGnAaLnvF",
      "include_colab_link": true
    },
    "kernelspec": {
      "name": "python3",
      "display_name": "Python 3"
    },
    "language_info": {
      "name": "python"
    },
    "accelerator": "GPU"
  },
  "cells": [
    {
      "cell_type": "markdown",
      "metadata": {
        "id": "view-in-github",
        "colab_type": "text"
      },
      "source": [
        "<a href=\"https://colab.research.google.com/github/yuu-eguci/flower-stuff-lab/blob/main/yuueguci/mnist_prediction.ipynb\" target=\"_parent\"><img src=\"https://colab.research.google.com/assets/colab-badge.svg\" alt=\"Open In Colab\"/></a>"
      ]
    },
    {
      "cell_type": "code",
      "metadata": {
        "id": "hBgFLQ6hEnk7"
      },
      "source": [
        "!nvidia-smi"
      ],
      "execution_count": null,
      "outputs": []
    },
    {
      "cell_type": "code",
      "metadata": {
        "id": "r36MTtu9KBrI"
      },
      "source": [
        "# Google Drive をマウントします。\n",
        "# NOTE: 左のトコをポチポチやってマウントすることも出来ますが(というかそのほうがラク)\n",
        "# マウントすることを明示するほうが好みなのでしています。\n",
        "from google.colab import drive\n",
        "drive.mount('/content/drive')"
      ],
      "execution_count": null,
      "outputs": []
    },
    {
      "cell_type": "code",
      "metadata": {
        "id": "_QyDf63U_Dhc"
      },
      "source": [
        "# my_utils.convert_image_for_prediction を利用する準備を行います。\n",
        "!git clone https://github.com/yuu-eguci/flower-stuff-lab.git\n",
        "\n",
        "# my_utils を import するため、 flower-stuff-lab 内へ移動します。\n",
        "import os\n",
        "os.chdir('/content/flower-stuff-lab/yuueguci')"
      ],
      "execution_count": null,
      "outputs": []
    },
    {
      "cell_type": "code",
      "metadata": {
        "id": "xTmUDFLT3o4X"
      },
      "source": [
        "# NOTE: Colaboratory で module imported but unused とか出す方法あるのかな?\n",
        "# NOTE: この内容なら、 Colab では pip install 不要です。\n",
        "import keras.models\n",
        "import numpy\n",
        "import my_utils\n",
        "\n",
        "# モデルをロードします。\n",
        "model = keras.models.load_model('/content/drive/MyDrive/hdf5/mnist_fitting.hdf5')\n",
        "model.summary()\n",
        "\n",
        "# 正規化を済ませ、 prediction へ回せる形式へ変換された画像を取得します。\n",
        "img_nad = my_utils.convert_image_for_prediction(\n",
        "    '/content/drive/MyDrive/images-for-prediction/for-mnist/mnist_1.png',\n",
        "    (28, 28),\n",
        "    'grayscale'\n",
        ")\n",
        "print(f'正規化後の img_nad.shape: {img_nad.shape}')\n",
        "\n",
        "# Prediction を行います。\n",
        "predicted = model.predict(img_nad, batch_size=1, verbose=0)\n",
        "print(f'model.predict の返り値: {type(predicted)}')  # <class 'numpy.ndarray'>\n",
        "predicted = numpy.argmax(predicted, axis=-1)\n",
        "print(f'numpy.argmax の返り値: {type(predicted)}, {predicted}')"
      ],
      "execution_count": null,
      "outputs": []
    }
  ]
}