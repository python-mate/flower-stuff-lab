{
  "nbformat": 4,
  "nbformat_minor": 0,
  "metadata": {
    "colab": {
      "name": "cifar10_fitting.ipynb",
      "provenance": [],
      "mount_file_id": "https://github.com/yuu-eguci/flower-stuff-lab/blob/main/yuueguci/my_utils_test.ipynb",
      "authorship_tag": "ABX9TyMBMcfeTALj3MTa5W1QT1xf",
      "include_colab_link": true
    },
    "kernelspec": {
      "name": "python3",
      "display_name": "Python 3"
    },
    "language_info": {
      "name": "python"
    },
    "accelerator": "GPU"
  },
  "cells": [
    {
      "cell_type": "markdown",
      "metadata": {
        "id": "view-in-github",
        "colab_type": "text"
      },
      "source": [
        "<a href=\"https://colab.research.google.com/github/yuu-eguci/flower-stuff-lab/blob/main/yuueguci/my_utils_test.ipynb\" target=\"_parent\"><img src=\"https://colab.research.google.com/assets/colab-badge.svg\" alt=\"Open In Colab\"/></a>"
      ]
    },
    {
      "cell_type": "code",
      "metadata": {
        "id": "hBgFLQ6hEnk7",
        "colab": {
          "base_uri": "https://localhost:8080/"
        },
        "outputId": "12fb9e6c-6a11-44cb-f88b-219838871238"
      },
      "source": [
        "!nvidia-smi"
      ],
      "execution_count": 1,
      "outputs": [
        {
          "output_type": "stream",
          "text": [
            "Wed Jul  7 12:29:10 2021       \n",
            "+-----------------------------------------------------------------------------+\n",
            "| NVIDIA-SMI 465.27       Driver Version: 460.32.03    CUDA Version: 11.2     |\n",
            "|-------------------------------+----------------------+----------------------+\n",
            "| GPU  Name        Persistence-M| Bus-Id        Disp.A | Volatile Uncorr. ECC |\n",
            "| Fan  Temp  Perf  Pwr:Usage/Cap|         Memory-Usage | GPU-Util  Compute M. |\n",
            "|                               |                      |               MIG M. |\n",
            "|===============================+======================+======================|\n",
            "|   0  Tesla T4            Off  | 00000000:00:04.0 Off |                    0 |\n",
            "| N/A   54C    P8    10W /  70W |      0MiB / 15109MiB |      0%      Default |\n",
            "|                               |                      |                  N/A |\n",
            "+-------------------------------+----------------------+----------------------+\n",
            "                                                                               \n",
            "+-----------------------------------------------------------------------------+\n",
            "| Processes:                                                                  |\n",
            "|  GPU   GI   CI        PID   Type   Process name                  GPU Memory |\n",
            "|        ID   ID                                                   Usage      |\n",
            "|=============================================================================|\n",
            "|  No running processes found                                                 |\n",
            "+-----------------------------------------------------------------------------+\n"
          ],
          "name": "stdout"
        }
      ]
    },
    {
      "cell_type": "code",
      "metadata": {
        "id": "6odiOhUm8w78"
      },
      "source": [
        "# Google Drive をマウントします。\n",
        "# NOTE: 左のトコをポチポチやってマウントすることも出来ますが(というかそのほうがラク)\n",
        "# マウントすることを明示するほうが好みなのでしています。\n",
        "from google.colab import drive\n",
        "drive.mount('/content/drive')"
      ],
      "execution_count": null,
      "outputs": []
    },
    {
      "cell_type": "code",
      "metadata": {
        "id": "4WDINcO_8ifs"
      },
      "source": [
        "# リポジトリを用意します。\n",
        "!git clone https://github.com/yuu-eguci/flower-stuff-lab.git"
      ],
      "execution_count": null,
      "outputs": []
    },
    {
      "cell_type": "code",
      "metadata": {
        "id": "cYfbTugQ9T2N"
      },
      "source": [
        "# my_utils を import するため、 flower-stuff-lab 内へ移動します。\n",
        "import os\n",
        "os.chdir('/content/flower-stuff-lab/yuueguci')"
      ],
      "execution_count": 4,
      "outputs": []
    },
    {
      "cell_type": "code",
      "metadata": {
        "id": "FSJzOXWv84JD",
        "outputId": "f2019c1b-4dd9-4221-8710-9beac0cac277",
        "colab": {
          "base_uri": "https://localhost:8080/"
        }
      },
      "source": [
        "# my_utils.convert_image_for_prediction の動作テストを行います。\n",
        "import my_utils\n",
        "\n",
        "IMAGE_PATH = '/content/drive/MyDrive/images-for-prediction/for-cifar10/cat (1).png'\n",
        "\n",
        "# 正規化を済ませ、 prediction へ回せる形式へ変換された画像を取得します。\n",
        "img_nad = my_utils.convert_image_for_prediction(IMAGE_PATH)\n",
        "print(img_nad.shape)"
      ],
      "execution_count": 5,
      "outputs": [
        {
          "output_type": "stream",
          "text": [
            "load_img の返り値: <class 'PIL.Image.Image'>\n",
            "PIL.Image.Image size: (32, 32)\n",
            "img_to_array の返り値: <class 'numpy.ndarray'>\n",
            "正規化後の img: <class 'numpy.ndarray'>\n",
            "正規化後の img.shape: (32, 32, 3)\n",
            "(1, 32, 32, 3)\n"
          ],
          "name": "stdout"
        }
      ]
    }
  ]
}