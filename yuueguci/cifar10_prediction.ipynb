{
  "nbformat": 4,
  "nbformat_minor": 0,
  "metadata": {
    "colab": {
      "name": "cifar10_prediction.ipynb",
      "provenance": [],
      "mount_file_id": "https://github.com/yuu-eguci/flower-stuff-lab/blob/main/yuueguci/cifar10_prediction.ipynb",
      "authorship_tag": "ABX9TyOUbjH1s1aGs4EPRdWB4JHT",
      "include_colab_link": true
    },
    "kernelspec": {
      "name": "python3",
      "display_name": "Python 3"
    },
    "language_info": {
      "name": "python"
    },
    "accelerator": "GPU"
  },
  "cells": [
    {
      "cell_type": "markdown",
      "metadata": {
        "id": "view-in-github",
        "colab_type": "text"
      },
      "source": [
        "<a href=\"https://colab.research.google.com/github/yuu-eguci/flower-stuff-lab/blob/main/yuueguci/cifar10_prediction.ipynb\" target=\"_parent\"><img src=\"https://colab.research.google.com/assets/colab-badge.svg\" alt=\"Open In Colab\"/></a>"
      ]
    },
    {
      "cell_type": "code",
      "metadata": {
        "id": "hBgFLQ6hEnk7",
        "colab": {
          "base_uri": "https://localhost:8080/"
        },
        "outputId": "4a55de82-b90a-460d-a16d-aa99d5c89c66"
      },
      "source": [
        "!nvidia-smi"
      ],
      "execution_count": 2,
      "outputs": [
        {
          "output_type": "stream",
          "text": [
            "Thu Jul  1 11:42:50 2021       \n",
            "+-----------------------------------------------------------------------------+\n",
            "| NVIDIA-SMI 465.27       Driver Version: 460.32.03    CUDA Version: 11.2     |\n",
            "|-------------------------------+----------------------+----------------------+\n",
            "| GPU  Name        Persistence-M| Bus-Id        Disp.A | Volatile Uncorr. ECC |\n",
            "| Fan  Temp  Perf  Pwr:Usage/Cap|         Memory-Usage | GPU-Util  Compute M. |\n",
            "|                               |                      |               MIG M. |\n",
            "|===============================+======================+======================|\n",
            "|   0  Tesla T4            Off  | 00000000:00:04.0 Off |                    0 |\n",
            "| N/A   39C    P8     9W /  70W |      0MiB / 15109MiB |      0%      Default |\n",
            "|                               |                      |                  N/A |\n",
            "+-------------------------------+----------------------+----------------------+\n",
            "                                                                               \n",
            "+-----------------------------------------------------------------------------+\n",
            "| Processes:                                                                  |\n",
            "|  GPU   GI   CI        PID   Type   Process name                  GPU Memory |\n",
            "|        ID   ID                                                   Usage      |\n",
            "|=============================================================================|\n",
            "|  No running processes found                                                 |\n",
            "+-----------------------------------------------------------------------------+\n"
          ],
          "name": "stdout"
        }
      ]
    },
    {
      "cell_type": "code",
      "metadata": {
        "id": "r36MTtu9KBrI",
        "colab": {
          "base_uri": "https://localhost:8080/"
        },
        "outputId": "e3eb6cc7-5943-4a32-8077-d814a12661e2"
      },
      "source": [
        "# Google Drive をマウントします。\n",
        "# NOTE: 左のトコをポチポチやってマウントすることも出来ますが(というかそのほうがラク)\n",
        "# マウントすることを明示するほうが好みなのでしています。\n",
        "from google.colab import drive\n",
        "drive.mount('/content/drive')"
      ],
      "execution_count": null,
      "outputs": [
        {
          "output_type": "stream",
          "text": [
            "Mounted at /content/drive\n"
          ],
          "name": "stdout"
        }
      ]
    },
    {
      "cell_type": "code",
      "metadata": {
        "colab": {
          "base_uri": "https://localhost:8080/"
        },
        "id": "YMO_qgOjb3wu",
        "outputId": "b5a2ac6e-ffd2-4a36-88b8-264b13a88b96"
      },
      "source": [
        "# Keras のバージョンが結構重要な感あります。確認しておきます。\n",
        "!pip list | grep -e Keras -e tensorflow -e h5py -e Pillow -e opencv-python"
      ],
      "execution_count": 3,
      "outputs": [
        {
          "output_type": "stream",
          "text": [
            "h5py                          3.1.0              \n",
            "Keras                         2.4.3              \n",
            "Keras-Preprocessing           1.1.2              \n",
            "opencv-python                 4.1.2.30           \n",
            "Pillow                        7.1.2              \n",
            "tensorflow                    2.5.0              \n",
            "tensorflow-datasets           4.0.1              \n",
            "tensorflow-estimator          2.5.0              \n",
            "tensorflow-gcs-config         2.5.0              \n",
            "tensorflow-hub                0.12.0             \n",
            "tensorflow-metadata           1.0.0              \n",
            "tensorflow-probability        0.12.1             \n"
          ],
          "name": "stdout"
        }
      ]
    },
    {
      "cell_type": "code",
      "metadata": {
        "id": "QCEk4dArDNPM",
        "outputId": "01583386-246f-47b4-91ce-c70e48fd3d5d",
        "colab": {
          "base_uri": "https://localhost:8080/"
        }
      },
      "source": [
        "# NOTE: Colaboratory で module imported but unused とか出す方法あるのかな?\n",
        "# NOTE: この内容なら、 Colab では pip install 不要です。\n",
        "from pathlib import Path\n",
        "import numpy\n",
        "from PIL import Image\n",
        "# 「Oreilly requrements.txt に従う」「from keras.modules」の条件下ではエラーが出ます。\n",
        "# NOTE: AttributeError:\n",
        "#       module 'keras.utils.generic_utils' has no attribute 'populate_dict_with_module_objects'\n",
        "from tensorflow.keras.models import load_model\n",
        "\n",
        "MODEL_PATH = '/content/drive/MyDrive/hdf5/cifar10_fitting.hdf5'\n",
        "IMAGES_FOLDER = '/content/drive/MyDrive/images-for-prediction/for-cifar10'\n",
        "CIFAR10_CLASSES = [\n",
        "    'airplane',\n",
        "    'automobile',\n",
        "    'bird',\n",
        "    'cat',\n",
        "    'deer',\n",
        "    'dog',\n",
        "    'frog',\n",
        "    'horse',\n",
        "    'ship',\n",
        "    'truck',\n",
        "]\n",
        "\n",
        "# load model\n",
        "model = load_model(MODEL_PATH)\n",
        "IMAGE_SHAPE = (32, 32, 3)\n",
        "\n",
        "\n",
        "# load images\n",
        "def crop_resize(image_path):\n",
        "    image = Image.open(image_path)\n",
        "    length = min(image.size)\n",
        "    crop = image.crop((0, 0, length, length))\n",
        "    resized = crop.resize(IMAGE_SHAPE[:2])  # use width x height\n",
        "    img = numpy.array(resized).astype('float32')\n",
        "    img /= 255\n",
        "    return img\n",
        "\n",
        "\n",
        "folder = Path(IMAGES_FOLDER)\n",
        "image_paths = [str(f) for f in folder.glob('*.png')]\n",
        "images = [crop_resize(p) for p in image_paths]\n",
        "images = numpy.asarray(images)\n",
        "\n",
        "# model.predict_classes(images) は deprecated です。\n",
        "# UserWarning: `model.predict_classes()` is deprecated and will be removed after 2021-01-01.\n",
        "# Please use instead:* `np.argmax(model.predict(x), axis=-1)`, if your model does multi-class classification\n",
        "# というわけで numpy.argmax(model.predict(x), axis=-1) 使います。\n",
        "predicted = numpy.argmax(model.predict(images), axis=-1)\n",
        "# predicted は予測された class の index です。数値じゃわからないので、 CIFAR10_CLASSES を使って名称に変換しています。\n",
        "print([CIFAR10_CLASSES[i] for i in predicted])"
      ],
      "execution_count": 7,
      "outputs": [
        {
          "output_type": "stream",
          "text": [
            "['cat']\n"
          ],
          "name": "stdout"
        }
      ]
    }
  ]
}